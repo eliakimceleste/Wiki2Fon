{
 "cells": [
  {
   "cell_type": "code",
   "execution_count": 1,
   "id": "b0dd8c62-58b9-4f60-ac6d-6bad8c37d208",
   "metadata": {},
   "outputs": [],
   "source": [
    "import pandas as pd"
   ]
  },
  {
   "cell_type": "code",
   "execution_count": 2,
   "id": "374c8c0d-82dd-4e79-ae89-684d16c3f0e8",
   "metadata": {},
   "outputs": [],
   "source": [
    "from pypdf import PdfReader\n",
    "from selenium import webdriver\n",
    "from selenium.webdriver.support.ui import WebDriverWait\n",
    "from selenium.webdriver.support import expected_conditions as EC\n",
    "from selenium.webdriver.common.by import By \n",
    "\n",
    "from selenium.webdriver.chrome.service import Service\n",
    "from selenium.webdriver.chrome.options import Options\n",
    "from webdriver_manager.chrome import ChromeDriverManager"
   ]
  },
  {
   "cell_type": "code",
   "execution_count": 3,
   "id": "079af215-2bfd-40d3-80c6-ff31047ca79c",
   "metadata": {},
   "outputs": [],
   "source": [
    "data = pd.read_json(\"wikipedia_articles.json\")"
   ]
  },
  {
   "cell_type": "code",
   "execution_count": 4,
   "id": "a5020b2e-e532-4a31-9876-2ab439572624",
   "metadata": {},
   "outputs": [
    {
     "data": {
      "text/html": [
       "<div>\n",
       "<style scoped>\n",
       "    .dataframe tbody tr th:only-of-type {\n",
       "        vertical-align: middle;\n",
       "    }\n",
       "\n",
       "    .dataframe tbody tr th {\n",
       "        vertical-align: top;\n",
       "    }\n",
       "\n",
       "    .dataframe thead th {\n",
       "        text-align: right;\n",
       "    }\n",
       "</style>\n",
       "<table border=\"1\" class=\"dataframe\">\n",
       "  <thead>\n",
       "    <tr style=\"text-align: right;\">\n",
       "      <th></th>\n",
       "      <th>id</th>\n",
       "      <th>title</th>\n",
       "      <th>url</th>\n",
       "      <th>content</th>\n",
       "    </tr>\n",
       "  </thead>\n",
       "  <tbody>\n",
       "    <tr>\n",
       "      <th>0</th>\n",
       "      <td>544195</td>\n",
       "      <td>Dours</td>\n",
       "      <td>https://fr.wikipedia.org/wiki?curid=544195</td>\n",
       "      <td>Dours\\n\\nDours (Dors en occitan) est une commu...</td>\n",
       "    </tr>\n",
       "    <tr>\n",
       "      <th>1</th>\n",
       "      <td>544196</td>\n",
       "      <td>Ens (Hautes-Pyrénées)</td>\n",
       "      <td>https://fr.wikipedia.org/wiki?curid=544196</td>\n",
       "      <td>Ens (Hautes-Pyrénées)\\n\\nEns est une commune f...</td>\n",
       "    </tr>\n",
       "    <tr>\n",
       "      <th>2</th>\n",
       "      <td>544197</td>\n",
       "      <td>Esbareich</td>\n",
       "      <td>https://fr.wikipedia.org/wiki?curid=544197</td>\n",
       "      <td>Esbareich\\n\\nEsbareich est une commune françai...</td>\n",
       "    </tr>\n",
       "    <tr>\n",
       "      <th>3</th>\n",
       "      <td>544198</td>\n",
       "      <td>Escala</td>\n",
       "      <td>https://fr.wikipedia.org/wiki?curid=544198</td>\n",
       "      <td>Escala\\n\\nEscala est une commune française sit...</td>\n",
       "    </tr>\n",
       "    <tr>\n",
       "      <th>4</th>\n",
       "      <td>544199</td>\n",
       "      <td>Escaunets</td>\n",
       "      <td>https://fr.wikipedia.org/wiki?curid=544199</td>\n",
       "      <td>Escaunets\\n\\nEscaunets est une commune françai...</td>\n",
       "    </tr>\n",
       "  </tbody>\n",
       "</table>\n",
       "</div>"
      ],
      "text/plain": [
       "       id                  title                                         url  \\\n",
       "0  544195                  Dours  https://fr.wikipedia.org/wiki?curid=544195   \n",
       "1  544196  Ens (Hautes-Pyrénées)  https://fr.wikipedia.org/wiki?curid=544196   \n",
       "2  544197              Esbareich  https://fr.wikipedia.org/wiki?curid=544197   \n",
       "3  544198                 Escala  https://fr.wikipedia.org/wiki?curid=544198   \n",
       "4  544199              Escaunets  https://fr.wikipedia.org/wiki?curid=544199   \n",
       "\n",
       "                                             content  \n",
       "0  Dours\\n\\nDours (Dors en occitan) est une commu...  \n",
       "1  Ens (Hautes-Pyrénées)\\n\\nEns est une commune f...  \n",
       "2  Esbareich\\n\\nEsbareich est une commune françai...  \n",
       "3  Escala\\n\\nEscala est une commune française sit...  \n",
       "4  Escaunets\\n\\nEscaunets est une commune françai...  "
      ]
     },
     "execution_count": 4,
     "metadata": {},
     "output_type": "execute_result"
    }
   ],
   "source": [
    "data.head()"
   ]
  },
  {
   "cell_type": "code",
   "execution_count": null,
   "id": "c53a7e9c-b478-48db-8602-cb64f8978d80",
   "metadata": {},
   "outputs": [],
   "source": [
    "print(data[\"content\"][0])"
   ]
  },
  {
   "cell_type": "code",
   "execution_count": 5,
   "id": "f4e2a3cf-3a45-4ab3-be18-ba42d6d83af3",
   "metadata": {},
   "outputs": [],
   "source": [
    "def initialize_driver():\n",
    "    options = Options()\n",
    "    options.add_argument(\"--headless\")  # Activer le mode headless\n",
    "    options.add_argument(\"--no-sandbox\")\n",
    "    # driver = webdriver.Firefox(options=options)\n",
    "    driver = webdriver.Chrome(service=Service(ChromeDriverManager().install()),options = options)\n",
    "    \n",
    "    return driver"
   ]
  },
  {
   "cell_type": "code",
   "execution_count": 6,
   "id": "5f8b031b-db1c-4ddf-943b-f40466e8d656",
   "metadata": {},
   "outputs": [],
   "source": [
    "# Fonction pour diviser le texte en morceaux de 3900 caractères ou moins\n",
    "def split_text(text, max_length=3900):\n",
    "    # Diviser le texte en morceaux plus petits si la longueur dépasse la limite\n",
    "    return [text[i:i+max_length] for i in range(0, len(text), max_length)]\n",
    "\n",
    "# Fonction de traduction\n",
    "def translate_to_fon(text: str):\n",
    "    driver = initialize_driver()\n",
    "    driver.get(\"https://translate.google.com/details?hl=fr&sl=auto&tl=fon&op=translate\")\n",
    "    \n",
    "    # Diviser le texte en morceaux de taille appropriée\n",
    "    text_parts = split_text(text)\n",
    "    translated_text = \"\"\n",
    "\n",
    "    try:\n",
    "        for part in text_parts:\n",
    "            # Passer le texte dans la zone de saisie\n",
    "            driver.find_element(by=By.CLASS_NAME, value=\"er8xn\").send_keys(part) \n",
    "\n",
    "            \n",
    "            # Attendre la traduction\n",
    "            element = WebDriverWait(driver, 30).until(\n",
    "                EC.presence_of_element_located((By.CLASS_NAME, \"HwtZe\"))\n",
    "            )\n",
    "            \n",
    "            # Récupérer la traduction pour ce morceau\n",
    "            translated_text += element.text + \" \"  # Ajouter un espace entre les morceaux de texte\n",
    "\n",
    "        return translated_text.strip()\n",
    "    \n",
    "    except Exception as e:\n",
    "        print(f\"Erreur : {e}\")\n",
    "        return None\n",
    "    \n",
    "    finally:\n",
    "        driver.quit()"
   ]
  },
  {
   "cell_type": "code",
   "execution_count": null,
   "id": "5a74eb78-8561-4a69-9a44-64b491eb2d73",
   "metadata": {},
   "outputs": [],
   "source": [
    "translate_in_fon = translate_to_fon(data[\"content\"][0])\n",
    "print(translate_in_fon)"
   ]
  },
  {
   "cell_type": "code",
   "execution_count": null,
   "id": "b36da752-aad5-409b-9e7f-5a0cc89d4839",
   "metadata": {},
   "outputs": [
    {
     "name": "stdout",
     "output_type": "stream",
     "text": [
      "🔁 Reprise : 5180 articles déjà traduits.\n",
      "➡️  [5181] Traduction de : Léonce Perret\n"
     ]
    }
   ],
   "source": [
    "import time\n",
    "import os\n",
    "\n",
    "# ==============================\n",
    "# CONFIG\n",
    "BATCH_SIZE = 10\n",
    "SLEEP_BETWEEN = 10  # secondes\n",
    "CSV_INPUT = \"extracted_data.csv\"\n",
    "CSV_OUTPUT = \"translated_data_fon.csv\"\n",
    "# ==============================\n",
    "\n",
    "# Si un fichier de sortie existe, on le reprend pour éviter de tout refaire\n",
    "if os.path.exists(CSV_OUTPUT):\n",
    "    df_translated = pd.read_csv(CSV_OUTPUT)\n",
    "    already_done_ids = set(df_translated[\"id\"])\n",
    "    print(f\"🔁 Reprise : {len(already_done_ids)} articles déjà traduits.\")\n",
    "else:\n",
    "    df_translated = pd.DataFrame(columns=[\"id\", \"title\", \"url\", \"content\", \"content_fon\"])\n",
    "    already_done_ids = set()\n",
    "\n",
    "\n",
    "try:\n",
    "    for idx, row in data.iterrows():\n",
    "        if row[\"id\"] in already_done_ids:\n",
    "            continue  # Déjà traité\n",
    "\n",
    "        print(f\"➡️  [{idx+1}] Traduction de : {row['title']}\")\n",
    "        translated = translate_to_fon(row[\"content\"])\n",
    "        new_row = {\n",
    "            \"id\": row[\"id\"],\n",
    "            \"title\": row[\"title\"],\n",
    "            \"url\": row[\"url\"],\n",
    "            \"content\": row[\"content\"],\n",
    "            \"content_fon\": translated\n",
    "        }\n",
    "        df_translated = pd.concat([df_translated, pd.DataFrame([new_row])], ignore_index=True)\n",
    "\n",
    "        # Sauvegarder toutes les BATCH_SIZE traductions\n",
    "        if len(df_translated) % BATCH_SIZE == 0:\n",
    "            df_translated.to_csv(CSV_OUTPUT, index=False)\n",
    "            print(f\"💾 Sauvegarde automatique après {len(df_translated)} articles.\")\n",
    "            time.sleep(SLEEP_BETWEEN)  # Pause entre les lots\n",
    "\n",
    "    # Sauvegarde finale\n",
    "    df_translated.to_csv(CSV_OUTPUT, index=False)\n",
    "    print(\"✅ Traduction terminée. Fichier final : translated_data_fon.csv\")\n",
    "\n",
    "except KeyboardInterrupt:\n",
    "    print(\"⏹️ Interruption manuelle, sauvegarde en cours...\")\n",
    "    df_translated.to_csv(CSV_OUTPUT, index=False)\n",
    "    print(\"✅ Progression sauvegardée.\")\n",
    "\n"
   ]
  },
  {
   "cell_type": "code",
   "execution_count": null,
   "id": "c7874ae9-632d-4ba7-a02c-b7a876c17851",
   "metadata": {},
   "outputs": [],
   "source": []
  }
 ],
 "metadata": {
  "kernelspec": {
   "display_name": "Python 3 (ipykernel)",
   "language": "python",
   "name": "python3"
  },
  "language_info": {
   "codemirror_mode": {
    "name": "ipython",
    "version": 3
   },
   "file_extension": ".py",
   "mimetype": "text/x-python",
   "name": "python",
   "nbconvert_exporter": "python",
   "pygments_lexer": "ipython3",
   "version": "3.10.12"
  }
 },
 "nbformat": 4,
 "nbformat_minor": 5
}
